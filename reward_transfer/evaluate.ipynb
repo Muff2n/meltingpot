{
 "cells": [
  {
   "cell_type": "code",
   "execution_count": null,
   "id": "8f706c42-a5b2-4bcf-9815-cae14d4f99b5",
   "metadata": {},
   "outputs": [],
   "source": [
    "import matplotlib.pyplot as plt\n",
    "import numpy as np\n",
    "import os\n",
    "import pandas as pd\n",
    "\n",
    "INPUT = '/scratch/users/k21075402/new'\n",
    "harvest = {\n",
    "    'name': 'commons_harvest__open',\n",
    "    'TRIAL_IDS_SP': ['39596646', '3f82a7f6', 'b484e613', 'd1a59a0e', 'ebcd23ed'],\n",
    "    'TRIAL_IDS_ID': ['41697eb3', '68238f61', 'b0569bd9', 'd1ec3174', 'eb100aee']\n",
    "}\n",
    "mushroom = {\n",
    "    'name': 'externality_mushrooms__dense',\n",
    "    # 'TRIAL_IDS_ID': ['ec5de638']}\n",
    "    'TRIAL_IDS_ID': ['8de7e630', 'ab15db82', 'b7c04d31', 'ca8d5c9d', 'cb2f86c9']\n",
    "}\n",
    "\n"
   ]
  }
 ],
 "metadata": {
  "kernelspec": {
   "display_name": "Python 3 (ipykernel)",
   "language": "python",
   "name": "python3"
  },
  "language_info": {
   "codemirror_mode": {
    "name": "ipython",
    "version": 3
   },
   "file_extension": ".py",
   "mimetype": "text/x-python",
   "name": "python",
   "nbconvert_exporter": "python",
   "pygments_lexer": "ipython3",
   "version": "3.11.9"
  }
 },
 "nbformat": 4,
 "nbformat_minor": 5
}
