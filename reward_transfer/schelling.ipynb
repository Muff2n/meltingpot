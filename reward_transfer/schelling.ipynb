{
 "cells": [
  {
   "cell_type": "code",
   "execution_count": 15,
   "id": "d92b92e4-c56b-496f-970c-ab469de056e9",
   "metadata": {},
   "outputs": [],
   "source": [
    "import matplotlib.pyplot as plt\n",
    "import numpy as np\n",
    "import os\n",
    "import pandas as pd\n",
    "\n",
    "INPUT = '/scratch/users/k21075402'\n",
    "\n",
    "harvest = {\n",
    "    'folder': 'new',\n",
    "    'name': 'commons_harvest__open',\n",
    "    'trial_id': 'eb100aee',\n",
    "    'n': 7,\n",
    "    'ylim': 100,\n",
    "    'ylim_r': 600,\n",
    "    'loc': 'upper left',\n",
    "}\n",
    "mushroom = {\n",
    "    'folder': 'tf_2_14',\n",
    "    'name': 'externality_mushrooms__dense',\n",
    "    'trial_id': '8de7e630',  # but I also used 51727c4c for the defect policies\n",
    "    'n': 5,\n",
    "    'ylim': 150,\n",
    "    'ylim_r': 800,\n",
    "    'loc': 'lower right',\n",
    "}\n",
    "\n",
    "FILES = [f'n_c_{i}.json' for i in range(8)]"
   ]
  },
  {
   "cell_type": "code",
   "execution_count": 16,
   "id": "c79f6ea3-c971-4555-97b4-05249755fde4",
   "metadata": {
    "scrolled": true
   },
   "outputs": [
    {
     "name": "stderr",
     "output_type": "stream",
     "text": [
      "/home/richard/mambaforge/envs/paper_2/lib/python3.11/site-packages/numpy/core/fromnumeric.py:3504: RuntimeWarning: Mean of empty slice.\n",
      "  return _methods._mean(a, axis=axis, dtype=dtype,\n",
      "/home/richard/mambaforge/envs/paper_2/lib/python3.11/site-packages/numpy/core/_methods.py:129: RuntimeWarning: invalid value encountered in scalar divide\n",
      "  ret = ret.dtype.type(ret / rcount)\n",
      "/home/richard/mambaforge/envs/paper_2/lib/python3.11/site-packages/numpy/core/fromnumeric.py:3504: RuntimeWarning: Mean of empty slice.\n",
      "  return _methods._mean(a, axis=axis, dtype=dtype,\n",
      "/home/richard/mambaforge/envs/paper_2/lib/python3.11/site-packages/numpy/core/_methods.py:129: RuntimeWarning: invalid value encountered in scalar divide\n",
      "  ret = ret.dtype.type(ret / rcount)\n"
     ]
    },
    {
     "data": {
      "text/html": [
       "<div>\n",
       "<style scoped>\n",
       "    .dataframe tbody tr th:only-of-type {\n",
       "        vertical-align: middle;\n",
       "    }\n",
       "\n",
       "    .dataframe tbody tr th {\n",
       "        vertical-align: top;\n",
       "    }\n",
       "\n",
       "    .dataframe thead th {\n",
       "        text-align: right;\n",
       "    }\n",
       "</style>\n",
       "<table border=\"1\" class=\"dataframe\">\n",
       "  <thead>\n",
       "    <tr style=\"text-align: right;\">\n",
       "      <th></th>\n",
       "      <th>rewards_c</th>\n",
       "      <th>rewards_d</th>\n",
       "      <th>social_welfare</th>\n",
       "    </tr>\n",
       "  </thead>\n",
       "  <tbody>\n",
       "    <tr>\n",
       "      <th>0</th>\n",
       "      <td>42.865111</td>\n",
       "      <td>27.185378</td>\n",
       "      <td>135.926889</td>\n",
       "    </tr>\n",
       "    <tr>\n",
       "      <th>1</th>\n",
       "      <td>62.234111</td>\n",
       "      <td>38.243889</td>\n",
       "      <td>195.840667</td>\n",
       "    </tr>\n",
       "    <tr>\n",
       "      <th>2</th>\n",
       "      <td>108.694519</td>\n",
       "      <td>57.591407</td>\n",
       "      <td>297.242444</td>\n",
       "    </tr>\n",
       "    <tr>\n",
       "      <th>3</th>\n",
       "      <td>125.838722</td>\n",
       "      <td>115.455667</td>\n",
       "      <td>556.994889</td>\n",
       "    </tr>\n",
       "    <tr>\n",
       "      <th>4</th>\n",
       "      <td>119.728178</td>\n",
       "      <td>147.394444</td>\n",
       "      <td>650.749333</td>\n",
       "    </tr>\n",
       "    <tr>\n",
       "      <th>5</th>\n",
       "      <td>NaN</td>\n",
       "      <td>NaN</td>\n",
       "      <td>598.640889</td>\n",
       "    </tr>\n",
       "  </tbody>\n",
       "</table>\n",
       "</div>"
      ],
      "text/plain": [
       "    rewards_c   rewards_d  social_welfare\n",
       "0   42.865111   27.185378      135.926889\n",
       "1   62.234111   38.243889      195.840667\n",
       "2  108.694519   57.591407      297.242444\n",
       "3  125.838722  115.455667      556.994889\n",
       "4  119.728178  147.394444      650.749333\n",
       "5         NaN         NaN      598.640889"
      ]
     },
     "execution_count": 16,
     "metadata": {},
     "output_type": "execute_result"
    }
   ],
   "source": [
    "env = mushroom\n",
    "\n",
    "FILES = [f'n_c_{i}.json' for i in range(env['n'] + 1)]\n",
    "rewards_c = []\n",
    "rewards_d = []\n",
    "for n_c, f in enumerate(FILES):\n",
    "    rewards = list(pd.read_json(os.path.join(INPUT, env['folder'], env['name'], env['trial_id'], f))['env_runners']['policy_reward_mean'].values())\n",
    "    # print(n_c, rewards[:n_c], rewards[n_c:])\n",
    "    rewards_c.append(np.mean(rewards[:n_c]))\n",
    "    rewards_d.append(np.mean(rewards[n_c:]))\n",
    "\n",
    "df = pd.DataFrame({'rewards_c': rewards_c, 'rewards_d': rewards_d})\n",
    "df['social_welfare'] = df.index * df['rewards_c'].fillna(0) + (env['n']-df.index) * df['rewards_d'].fillna(0)\n",
    "# shift rewards_c so schelling\n",
    "df['rewards_c'] = np.roll(df['rewards_c'], -1)\n",
    "df"
   ]
  },
  {
   "cell_type": "code",
   "execution_count": 17,
   "id": "8cb8477e-9525-49a5-a467-4b9a0b2a6330",
   "metadata": {},
   "outputs": [
    {
     "data": {
      "image/png": "[encoded data removed]",
      "text/plain": [
       "<Figure size 450x160 with 2 Axes>"
      ]
     },
     "metadata": {},
     "output_type": "display_data"
    }
   ],
   "source": [
    "# plot SW on RHS\n",
    "fig, ax = plt.subplots(figsize=(4.5, 1.6), facecolor='white')\n",
    "df.plot(y='rewards_c', ax=ax, label= 'rewards_c', lw=0.75)\n",
    "df.plot(y='rewards_d', ax=ax, label= 'rewards_d', lw=0.75)\n",
    "\n",
    "ax.set_xlabel('Number of cooperators')\n",
    "ax.set_ylabel('Mean reward')\n",
    "# ax.set_title(f'Schelling', y=1.05)\n",
    "ax.set_ylim(0, env['ylim'])\n",
    "ax.set_xlim(0, env['n'])\n",
    "\n",
    "ax2 = ax.twinx()\n",
    "df.plot(y='social_welfare', ax=ax2, label= 'social_welfare', lw=0.75, linestyle='--', color='green')\n",
    "\n",
    "ax2.set_ylim(0, env['ylim_r'])\n",
    "ax2.set_ylabel('Social welfare')\n",
    "\n",
    "lines1, labels1 = ax.get_legend_handles_labels()\n",
    "lines2, labels2 = ax2.get_legend_handles_labels()\n",
    "ax.legend(lines1 + lines2, ['Cooperate', 'Defect'] + labels2, loc=env['loc'])\n",
    "ax2.get_legend().remove()\n",
    "\n",
    "fig.savefig(f'schelling_{env[\"name\"]}', dpi=300, bbox_inches='tight')"
   ]
  },
  {
   "cell_type": "code",
   "execution_count": null,
   "id": "475030d7-18cf-4d5b-af0a-7f825d84a102",
   "metadata": {},
   "outputs": [],
   "source": []
  }
 ],
 "metadata": {
  "kernelspec": {
   "display_name": "Python 3 (ipykernel)",
   "language": "python",
   "name": "python3"
  },
  "language_info": {
   "codemirror_mode": {
    "name": "ipython",
    "version": 3
   },
   "file_extension": ".py",
   "mimetype": "text/x-python",
   "name": "python",
   "nbconvert_exporter": "python",
   "pygments_lexer": "ipython3",
   "version": "3.11.9"
  }
 },
 "nbformat": 4,
 "nbformat_minor": 5
}
