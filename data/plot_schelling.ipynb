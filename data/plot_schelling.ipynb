{
 "cells": [
  {
   "cell_type": "code",
   "execution_count": 1,
   "id": "d92b92e4-c56b-496f-970c-ab469de056e9",
   "metadata": {},
   "outputs": [],
   "source": [
    "import matplotlib.pyplot as plt\n",
    "import numpy as np\n",
    "import os\n",
    "import pandas as pd\n",
    "import seaborn as sns\n",
    "\n",
    "harvest = {\n",
    "    'path': './',\n",
    "    'name': 'commons_harvest__open',\n",
    "    'trial_id': 'schelling',\n",
    "    'n': 7,\n",
    "    'ylim': 100,\n",
    "    'ylim_r': 600,\n",
    "    'loc': 'upper left',\n",
    "}\n",
    "mushroom = {\n",
    "    'path': './',\n",
    "    'name': 'externality_mushrooms__dense',\n",
    "    'trial_id': 'schelling',\n",
    "    'n': 5,\n",
    "    'ylim': 150,\n",
    "    'ylim_r': 800,\n",
    "    'loc': 'lower right',\n",
    "}\n",
    "clean = {\n",
    "    'path': '/scratch_tmp/users/k21075402/tf_2_15/',\n",
    "    'name': 'clean_up',\n",
    "    'trial_id': '756554ae',\n",
    "    'n': 7,\n",
    "    'ylim': 1000,\n",
    "    'ylim_r': 5000,\n",
    "    'loc': 'lower right',\n",
    "}\n",
    "\n",
    "FIGSIZE=(4.8, 1.4)  # for paper\n",
    "# FIGSIZE=(10, 4)  # for viewing\n",
    "DPI=500"
   ]
  },
  {
   "cell_type": "code",
   "execution_count": 2,
   "id": "c79f6ea3-c971-4555-97b4-05249755fde4",
   "metadata": {
    "scrolled": true
   },
   "outputs": [
    {
     "name": "stderr",
     "output_type": "stream",
     "text": [
      "/home/richard/mambaforge/envs/markov_sd/lib/python3.11/site-packages/numpy/core/fromnumeric.py:3504: RuntimeWarning: Mean of empty slice.\n",
      "  return _methods._mean(a, axis=axis, dtype=dtype,\n",
      "/home/richard/mambaforge/envs/markov_sd/lib/python3.11/site-packages/numpy/core/_methods.py:129: RuntimeWarning: invalid value encountered in scalar divide\n",
      "  ret = ret.dtype.type(ret / rcount)\n",
      "/home/richard/mambaforge/envs/markov_sd/lib/python3.11/site-packages/numpy/core/fromnumeric.py:3504: RuntimeWarning: Mean of empty slice.\n",
      "  return _methods._mean(a, axis=axis, dtype=dtype,\n",
      "/home/richard/mambaforge/envs/markov_sd/lib/python3.11/site-packages/numpy/core/_methods.py:129: RuntimeWarning: invalid value encountered in scalar divide\n",
      "  ret = ret.dtype.type(ret / rcount)\n"
     ]
    },
    {
     "data": {
      "text/html": [
       "<div>\n",
       "<style scoped>\n",
       "    .dataframe tbody tr th:only-of-type {\n",
       "        vertical-align: middle;\n",
       "    }\n",
       "\n",
       "    .dataframe tbody tr th {\n",
       "        vertical-align: top;\n",
       "    }\n",
       "\n",
       "    .dataframe thead th {\n",
       "        text-align: right;\n",
       "    }\n",
       "</style>\n",
       "<table border=\"1\" class=\"dataframe\">\n",
       "  <thead>\n",
       "    <tr style=\"text-align: right;\">\n",
       "      <th></th>\n",
       "      <th>rewards_c</th>\n",
       "      <th>rewards_d</th>\n",
       "      <th>social_welfare</th>\n",
       "    </tr>\n",
       "  </thead>\n",
       "  <tbody>\n",
       "    <tr>\n",
       "      <th>0</th>\n",
       "      <td>136.240000</td>\n",
       "      <td>215.093333</td>\n",
       "      <td>1505.653333</td>\n",
       "    </tr>\n",
       "    <tr>\n",
       "      <th>1</th>\n",
       "      <td>27.715556</td>\n",
       "      <td>221.631852</td>\n",
       "      <td>1466.031111</td>\n",
       "    </tr>\n",
       "    <tr>\n",
       "      <th>2</th>\n",
       "      <td>17.548148</td>\n",
       "      <td>68.284444</td>\n",
       "      <td>396.853333</td>\n",
       "    </tr>\n",
       "    <tr>\n",
       "      <th>3</th>\n",
       "      <td>17.318584</td>\n",
       "      <td>30.443333</td>\n",
       "      <td>174.417778</td>\n",
       "    </tr>\n",
       "    <tr>\n",
       "      <th>4</th>\n",
       "      <td>505.049778</td>\n",
       "      <td>27.383481</td>\n",
       "      <td>151.424779</td>\n",
       "    </tr>\n",
       "    <tr>\n",
       "      <th>5</th>\n",
       "      <td>611.590370</td>\n",
       "      <td>620.360000</td>\n",
       "      <td>3765.968889</td>\n",
       "    </tr>\n",
       "    <tr>\n",
       "      <th>6</th>\n",
       "      <td>663.219683</td>\n",
       "      <td>714.151111</td>\n",
       "      <td>4383.693333</td>\n",
       "    </tr>\n",
       "    <tr>\n",
       "      <th>7</th>\n",
       "      <td>NaN</td>\n",
       "      <td>NaN</td>\n",
       "      <td>4642.537778</td>\n",
       "    </tr>\n",
       "  </tbody>\n",
       "</table>\n",
       "</div>"
      ],
      "text/plain": [
       "    rewards_c   rewards_d  social_welfare\n",
       "0  136.240000  215.093333     1505.653333\n",
       "1   27.715556  221.631852     1466.031111\n",
       "2   17.548148   68.284444      396.853333\n",
       "3   17.318584   30.443333      174.417778\n",
       "4  505.049778   27.383481      151.424779\n",
       "5  611.590370  620.360000     3765.968889\n",
       "6  663.219683  714.151111     4383.693333\n",
       "7         NaN         NaN     4642.537778"
      ]
     },
     "execution_count": 2,
     "metadata": {},
     "output_type": "execute_result"
    }
   ],
   "source": [
    "env = clean\n",
    "\n",
    "FILES = [f'n_c_{i}.json' for i in range(env['n'] + 1)]\n",
    "rewards_c = []\n",
    "rewards_d = []\n",
    "for n_c, f in enumerate(FILES):\n",
    "    rewards = list(pd.read_json(os.path.join(env['path'], env['name'], env['trial_id'], f))['env_runners']['policy_reward_mean'].values())\n",
    "    # print(n_c, rewards[:n_c], rewards[n_c:])\n",
    "    rewards_c.append(np.mean(rewards[:n_c]))\n",
    "    rewards_d.append(np.mean(rewards[n_c:]))\n",
    "\n",
    "df = pd.DataFrame({'rewards_c': rewards_c, 'rewards_d': rewards_d})\n",
    "df['social_welfare'] = df.index * df['rewards_c'].fillna(0) + (env['n']-df.index) * df['rewards_d'].fillna(0)\n",
    "# shift rewards_c so schelling\n",
    "df['rewards_c'] = np.roll(df['rewards_c'], -1)\n",
    "df"
   ]
  },
  {
   "cell_type": "code",
   "execution_count": 3,
   "id": "8cb8477e-9525-49a5-a467-4b9a0b2a6330",
   "metadata": {},
   "outputs": [
    {
     "data": {
      "image/png": "[encoded data removed]",
      "text/plain": [
       "<Figure size 480x140 with 2 Axes>"
      ]
     },
     "metadata": {},
     "output_type": "display_data"
    }
   ],
   "source": [
    "# plot SW on RHS\n",
    "fig, ax = plt.subplots(figsize=FIGSIZE, facecolor='white')\n",
    "df.plot(y='rewards_c', ax=ax, label= 'rewards_c', lw=0.75)\n",
    "df.plot(y='rewards_d', ax=ax, label= 'rewards_d', lw=0.75)\n",
    "\n",
    "ylim = env['ylim']\n",
    "ax.set_xlabel('Number of cooperators')\n",
    "ax.set_ylabel('Mean reward')\n",
    "ax.set_ylim(0, ylim)\n",
    "ax.set_xlim(0, env['n'])\n",
    "ax.set_yticks(np.arange(0, ylim + 1, ylim / 4))\n",
    "\n",
    "ax2 = ax.twinx()\n",
    "df.plot(y='social_welfare', ax=ax2, label= 'social_welfare', lw=0.75, linestyle='--', color='green')\n",
    "\n",
    "ylim_r = env['ylim_r']\n",
    "ax2.set_ylim(0, ylim_r)\n",
    "ax2.set_yticks(np.arange(0, ylim_r + 1, ylim_r / 4))\n",
    "ax2.set_ylabel('Social welfare')\n",
    "\n",
    "lines1, labels1 = ax.get_legend_handles_labels()\n",
    "lines2, labels2 = ax2.get_legend_handles_labels()\n",
    "ax.legend(lines1 + lines2, ['Cooperate', 'Defect'] + labels2, loc=env['loc'])\n",
    "ax2.get_legend().remove()\n",
    "\n",
    "fig.savefig(f'schelling_{env[\"name\"]}', dpi=DPI, bbox_inches='tight')"
   ]
  },
  {
   "cell_type": "code",
   "execution_count": null,
   "id": "e0c763cc-4eb0-461d-bfe4-89dd153e6b22",
   "metadata": {},
   "outputs": [],
   "source": []
  },
  {
   "cell_type": "code",
   "execution_count": null,
   "id": "7edde6fd-3acd-4e53-ba1b-c24e1d161d76",
   "metadata": {},
   "outputs": [],
   "source": []
  },
  {
   "cell_type": "code",
   "execution_count": null,
   "id": "d3e266a7-34ea-4dcc-a757-c89c4eb39389",
   "metadata": {},
   "outputs": [],
   "source": []
  }
 ],
 "metadata": {
  "kernelspec": {
   "display_name": "Python 3 (ipykernel)",
   "language": "python",
   "name": "python3"
  },
  "language_info": {
   "codemirror_mode": {
    "name": "ipython",
    "version": 3
   },
   "file_extension": ".py",
   "mimetype": "text/x-python",
   "name": "python",
   "nbconvert_exporter": "python",
   "pygments_lexer": "ipython3",
   "version": "3.11.10"
  }
 },
 "nbformat": 4,
 "nbformat_minor": 5
}
